{
  "cells": [
    {
      "cell_type": "markdown",
      "metadata": {
        "id": "view-in-github",
        "colab_type": "text"
      },
      "source": [
        "<a href=\"https://colab.research.google.com/github/kuds/rl-drone/blob/main/%5BDrone%20Hover%5D%20Soft%20Actor-Critic%20(SAC).ipynb\" target=\"_parent\"><img src=\"https://colab.research.google.com/assets/colab-badge.svg\" alt=\"Open In Colab\"/></a>"
      ]
    },
    {
      "cell_type": "markdown",
      "source": [
        "# [Drone Hover] Soft Actor-Critic (SAC)\n"
      ],
      "metadata": {
        "id": "3sgzWHdDUoBA"
      }
    },
    {
      "cell_type": "code",
      "source": [
        "!pip install mujoco\n",
        "\n",
        "# Set up GPU rendering.\n",
        "from google.colab import files\n",
        "import distutils.util\n",
        "import os\n",
        "import subprocess\n",
        "if subprocess.run('nvidia-smi').returncode:\n",
        "  raise RuntimeError(\n",
        "      'Cannot communicate with GPU. '\n",
        "      'Make sure you are using a GPU Colab runtime. '\n",
        "      'Go to the Runtime menu and select Choose runtime type.')\n",
        "\n",
        "# Add an ICD config so that glvnd can pick up the Nvidia EGL driver.\n",
        "# This is usually installed as part of an Nvidia driver package, but the Colab\n",
        "# kernel doesn't install its driver via APT, and as a result the ICD is missing.\n",
        "# (https://github.com/NVIDIA/libglvnd/blob/master/src/EGL/icd_enumeration.md)\n",
        "NVIDIA_ICD_CONFIG_PATH = '/usr/share/glvnd/egl_vendor.d/10_nvidia.json'\n",
        "if not os.path.exists(NVIDIA_ICD_CONFIG_PATH):\n",
        "  with open(NVIDIA_ICD_CONFIG_PATH, 'w') as f:\n",
        "    f.write(\"\"\"{\n",
        "    \"file_format_version\" : \"1.0.0\",\n",
        "    \"ICD\" : {\n",
        "        \"library_path\" : \"libEGL_nvidia.so.0\"\n",
        "    }\n",
        "}\n",
        "\"\"\")\n",
        "\n",
        "# Configure MuJoCo to use the EGL rendering backend (requires GPU)\n",
        "print('Setting environment variable to use GPU rendering:')\n",
        "%env MUJOCO_GL=egl\n",
        "\n",
        "# Check if installation was succesful.\n",
        "try:\n",
        "  print('Checking that the installation succeeded:')\n",
        "  import mujoco\n",
        "  mujoco.MjModel.from_xml_string('<mujoco/>')\n",
        "except Exception as e:\n",
        "  raise e from RuntimeError(\n",
        "      'Something went wrong during installation. Check the shell output above '\n",
        "      'for more information.\\n'\n",
        "      'If using a hosted Colab runtime, make sure you enable GPU acceleration '\n",
        "      'by going to the Runtime menu and selecting \"Choose runtime type\".')\n",
        "\n",
        "print('Installation successful.')\n",
        "\n",
        "# Other imports and helper functions\n",
        "import time\n",
        "import itertools\n",
        "import numpy as np\n",
        "\n",
        "# Graphics and plotting.\n",
        "print('Installing mediapy:')\n",
        "!command -v ffmpeg >/dev/null || (apt update && apt install -y ffmpeg)\n",
        "!pip install -q mediapy\n",
        "import mediapy as media\n",
        "import matplotlib.pyplot as plt\n",
        "\n",
        "# More legible printing from numpy.\n",
        "np.set_printoptions(precision=3, suppress=True, linewidth=100)\n",
        "\n",
        "from IPython.display import clear_output\n",
        "clear_output()"
      ],
      "metadata": {
        "id": "xEQdrmJjK8KR"
      },
      "execution_count": 1,
      "outputs": []
    },
    {
      "cell_type": "code",
      "source": [
        "!pip install robot_descriptions\n",
        "!pip install gymnasium\n",
        "!pip install stable-baselines3"
      ],
      "metadata": {
        "id": "iUb7FllfjNEH",
        "outputId": "3d8aa661-108e-4288-c9ee-7dad3a90f205",
        "colab": {
          "base_uri": "https://localhost:8080/"
        }
      },
      "execution_count": 2,
      "outputs": [
        {
          "output_type": "stream",
          "name": "stdout",
          "text": [
            "Requirement already satisfied: robot_descriptions in /usr/local/lib/python3.11/dist-packages (1.20.0)\n",
            "Requirement already satisfied: GitPython>=3.1.18 in /usr/local/lib/python3.11/dist-packages (from robot_descriptions) (3.1.45)\n",
            "Requirement already satisfied: tqdm>=4.64.0 in /usr/local/lib/python3.11/dist-packages (from robot_descriptions) (4.67.1)\n",
            "Requirement already satisfied: gitdb<5,>=4.0.1 in /usr/local/lib/python3.11/dist-packages (from GitPython>=3.1.18->robot_descriptions) (4.0.12)\n",
            "Requirement already satisfied: smmap<6,>=3.0.1 in /usr/local/lib/python3.11/dist-packages (from gitdb<5,>=4.0.1->GitPython>=3.1.18->robot_descriptions) (5.0.2)\n",
            "Requirement already satisfied: gymnasium in /usr/local/lib/python3.11/dist-packages (1.2.0)\n",
            "Requirement already satisfied: numpy>=1.21.0 in /usr/local/lib/python3.11/dist-packages (from gymnasium) (2.0.2)\n",
            "Requirement already satisfied: cloudpickle>=1.2.0 in /usr/local/lib/python3.11/dist-packages (from gymnasium) (3.1.1)\n",
            "Requirement already satisfied: typing-extensions>=4.3.0 in /usr/local/lib/python3.11/dist-packages (from gymnasium) (4.14.1)\n",
            "Requirement already satisfied: farama-notifications>=0.0.1 in /usr/local/lib/python3.11/dist-packages (from gymnasium) (0.0.4)\n",
            "Requirement already satisfied: stable-baselines3 in /usr/local/lib/python3.11/dist-packages (2.7.0)\n",
            "Requirement already satisfied: gymnasium<1.3.0,>=0.29.1 in /usr/local/lib/python3.11/dist-packages (from stable-baselines3) (1.2.0)\n",
            "Requirement already satisfied: numpy<3.0,>=1.20 in /usr/local/lib/python3.11/dist-packages (from stable-baselines3) (2.0.2)\n",
            "Requirement already satisfied: torch<3.0,>=2.3 in /usr/local/lib/python3.11/dist-packages (from stable-baselines3) (2.6.0+cu124)\n",
            "Requirement already satisfied: cloudpickle in /usr/local/lib/python3.11/dist-packages (from stable-baselines3) (3.1.1)\n",
            "Requirement already satisfied: pandas in /usr/local/lib/python3.11/dist-packages (from stable-baselines3) (2.2.2)\n",
            "Requirement already satisfied: matplotlib in /usr/local/lib/python3.11/dist-packages (from stable-baselines3) (3.10.0)\n",
            "Requirement already satisfied: typing-extensions>=4.3.0 in /usr/local/lib/python3.11/dist-packages (from gymnasium<1.3.0,>=0.29.1->stable-baselines3) (4.14.1)\n",
            "Requirement already satisfied: farama-notifications>=0.0.1 in /usr/local/lib/python3.11/dist-packages (from gymnasium<1.3.0,>=0.29.1->stable-baselines3) (0.0.4)\n",
            "Requirement already satisfied: filelock in /usr/local/lib/python3.11/dist-packages (from torch<3.0,>=2.3->stable-baselines3) (3.18.0)\n",
            "Requirement already satisfied: networkx in /usr/local/lib/python3.11/dist-packages (from torch<3.0,>=2.3->stable-baselines3) (3.5)\n",
            "Requirement already satisfied: jinja2 in /usr/local/lib/python3.11/dist-packages (from torch<3.0,>=2.3->stable-baselines3) (3.1.6)\n",
            "Requirement already satisfied: fsspec in /usr/local/lib/python3.11/dist-packages (from torch<3.0,>=2.3->stable-baselines3) (2025.3.0)\n",
            "Requirement already satisfied: nvidia-cuda-nvrtc-cu12==12.4.127 in /usr/local/lib/python3.11/dist-packages (from torch<3.0,>=2.3->stable-baselines3) (12.4.127)\n",
            "Requirement already satisfied: nvidia-cuda-runtime-cu12==12.4.127 in /usr/local/lib/python3.11/dist-packages (from torch<3.0,>=2.3->stable-baselines3) (12.4.127)\n",
            "Requirement already satisfied: nvidia-cuda-cupti-cu12==12.4.127 in /usr/local/lib/python3.11/dist-packages (from torch<3.0,>=2.3->stable-baselines3) (12.4.127)\n",
            "Requirement already satisfied: nvidia-cudnn-cu12==9.1.0.70 in /usr/local/lib/python3.11/dist-packages (from torch<3.0,>=2.3->stable-baselines3) (9.1.0.70)\n",
            "Requirement already satisfied: nvidia-cublas-cu12==12.4.5.8 in /usr/local/lib/python3.11/dist-packages (from torch<3.0,>=2.3->stable-baselines3) (12.4.5.8)\n",
            "Requirement already satisfied: nvidia-cufft-cu12==11.2.1.3 in /usr/local/lib/python3.11/dist-packages (from torch<3.0,>=2.3->stable-baselines3) (11.2.1.3)\n",
            "Requirement already satisfied: nvidia-curand-cu12==10.3.5.147 in /usr/local/lib/python3.11/dist-packages (from torch<3.0,>=2.3->stable-baselines3) (10.3.5.147)\n",
            "Requirement already satisfied: nvidia-cusolver-cu12==11.6.1.9 in /usr/local/lib/python3.11/dist-packages (from torch<3.0,>=2.3->stable-baselines3) (11.6.1.9)\n",
            "Requirement already satisfied: nvidia-cusparse-cu12==12.3.1.170 in /usr/local/lib/python3.11/dist-packages (from torch<3.0,>=2.3->stable-baselines3) (12.3.1.170)\n",
            "Requirement already satisfied: nvidia-cusparselt-cu12==0.6.2 in /usr/local/lib/python3.11/dist-packages (from torch<3.0,>=2.3->stable-baselines3) (0.6.2)\n",
            "Requirement already satisfied: nvidia-nccl-cu12==2.21.5 in /usr/local/lib/python3.11/dist-packages (from torch<3.0,>=2.3->stable-baselines3) (2.21.5)\n",
            "Requirement already satisfied: nvidia-nvtx-cu12==12.4.127 in /usr/local/lib/python3.11/dist-packages (from torch<3.0,>=2.3->stable-baselines3) (12.4.127)\n",
            "Requirement already satisfied: nvidia-nvjitlink-cu12==12.4.127 in /usr/local/lib/python3.11/dist-packages (from torch<3.0,>=2.3->stable-baselines3) (12.4.127)\n",
            "Requirement already satisfied: triton==3.2.0 in /usr/local/lib/python3.11/dist-packages (from torch<3.0,>=2.3->stable-baselines3) (3.2.0)\n",
            "Requirement already satisfied: sympy==1.13.1 in /usr/local/lib/python3.11/dist-packages (from torch<3.0,>=2.3->stable-baselines3) (1.13.1)\n",
            "Requirement already satisfied: mpmath<1.4,>=1.1.0 in /usr/local/lib/python3.11/dist-packages (from sympy==1.13.1->torch<3.0,>=2.3->stable-baselines3) (1.3.0)\n",
            "Requirement already satisfied: contourpy>=1.0.1 in /usr/local/lib/python3.11/dist-packages (from matplotlib->stable-baselines3) (1.3.3)\n",
            "Requirement already satisfied: cycler>=0.10 in /usr/local/lib/python3.11/dist-packages (from matplotlib->stable-baselines3) (0.12.1)\n",
            "Requirement already satisfied: fonttools>=4.22.0 in /usr/local/lib/python3.11/dist-packages (from matplotlib->stable-baselines3) (4.59.0)\n",
            "Requirement already satisfied: kiwisolver>=1.3.1 in /usr/local/lib/python3.11/dist-packages (from matplotlib->stable-baselines3) (1.4.9)\n",
            "Requirement already satisfied: packaging>=20.0 in /usr/local/lib/python3.11/dist-packages (from matplotlib->stable-baselines3) (25.0)\n",
            "Requirement already satisfied: pillow>=8 in /usr/local/lib/python3.11/dist-packages (from matplotlib->stable-baselines3) (11.3.0)\n",
            "Requirement already satisfied: pyparsing>=2.3.1 in /usr/local/lib/python3.11/dist-packages (from matplotlib->stable-baselines3) (3.2.3)\n",
            "Requirement already satisfied: python-dateutil>=2.7 in /usr/local/lib/python3.11/dist-packages (from matplotlib->stable-baselines3) (2.9.0.post0)\n",
            "Requirement already satisfied: pytz>=2020.1 in /usr/local/lib/python3.11/dist-packages (from pandas->stable-baselines3) (2025.2)\n",
            "Requirement already satisfied: tzdata>=2022.7 in /usr/local/lib/python3.11/dist-packages (from pandas->stable-baselines3) (2025.2)\n",
            "Requirement already satisfied: six>=1.5 in /usr/local/lib/python3.11/dist-packages (from python-dateutil>=2.7->matplotlib->stable-baselines3) (1.17.0)\n",
            "Requirement already satisfied: MarkupSafe>=2.0 in /usr/local/lib/python3.11/dist-packages (from jinja2->torch<3.0,>=2.3->stable-baselines3) (3.0.2)\n"
          ]
        }
      ]
    },
    {
      "cell_type": "code",
      "source": [
        "import gymnasium\n",
        "import mujoco\n",
        "from stable_baselines3 import SAC\n",
        "from stable_baselines3.common.env_checker import check_env\n",
        "from stable_baselines3.common.vec_env import DummyVecEnv\n",
        "from stable_baselines3.common.callbacks import EvalCallback\n",
        "from stable_baselines3.common.evaluation import evaluate_policy\n",
        "from stable_baselines3.common.vec_env import VecVideoRecorder\n",
        "from stable_baselines3.common.env_util import make_atari_env\n",
        "from stable_baselines3.common.env_util import make_vec_env\n",
        "from stable_baselines3.common.callbacks import BaseCallback\n",
        "from stable_baselines3.common.callbacks import CallbackList\n",
        "from stable_baselines3.common.callbacks import CheckpointCallback\n",
        "from stable_baselines3.common.vec_env import VecNormalize\n",
        "import numpy\n",
        "import os\n",
        "import csv\n",
        "import torch\n",
        "import pandas\n",
        "import platform\n",
        "from importlib.metadata import version\n",
        "import matplotlib\n",
        "import matplotlib.pyplot\n",
        "from gymnasium import utils\n",
        "from gymnasium.envs.mujoco import MujocoEnv\n",
        "from gymnasium.spaces import Box\n",
        "import robot_descriptions\n",
        "from robot_descriptions import cf2_mj_description"
      ],
      "metadata": {
        "id": "ccI4U8S-149L",
        "outputId": "02fd7533-8740-4294-b4d6-d3f5da52a30d",
        "colab": {
          "base_uri": "https://localhost:8080/"
        }
      },
      "execution_count": 3,
      "outputs": [
        {
          "output_type": "stream",
          "name": "stderr",
          "text": [
            "Gym has been unmaintained since 2022 and does not support NumPy 2.0 amongst other critical functionality.\n",
            "Please upgrade to Gymnasium, the maintained drop-in replacement of Gym, or contact the authors of your software and request that they upgrade.\n",
            "See the migration guide at https://gymnasium.farama.org/introduction/migration_guide/ for additional information.\n"
          ]
        }
      ]
    },
    {
      "cell_type": "code",
      "source": [
        "print(f\"Python Version: {platform.python_version()}\")\n",
        "print(f\"Torch Version: {version('torch')}\")\n",
        "print(f\"Is Cuda Available: {torch.cuda.is_available()}\")\n",
        "print(f\"Cuda Version: {torch.version.cuda}\")\n",
        "print(f\"Gymnasium Version: {version('gymnasium')}\")\n",
        "print(f\"Robot Description Version: {version('robot_descriptions')}\")\n",
        "print(f\"Numpy Version: {version('numpy')}\")\n",
        "print(f\"Mujoco Version: {version('mujoco')}\")\n",
        "print(f\"Stable-Baselines3 Version: {version('stable-baselines3')}\")\n",
        "print(f\"Matplotlib Version: {version('matplotlib')}\")"
      ],
      "metadata": {
        "id": "x6AjavnkLBvl",
        "outputId": "5bbf11da-be45-4746-dc07-3e0bcb742417",
        "colab": {
          "base_uri": "https://localhost:8080/"
        }
      },
      "execution_count": 4,
      "outputs": [
        {
          "output_type": "stream",
          "name": "stdout",
          "text": [
            "Python Version: 3.11.13\n",
            "Torch Version: 2.6.0+cu124\n",
            "Is Cuda Available: True\n",
            "Cuda Version: 12.4\n",
            "Gymnasium Version: 1.2.0\n",
            "Robot Description Version: 1.20.0\n",
            "Numpy Version: 2.0.2\n",
            "Mujoco Version: 3.3.5\n",
            "Stable-Baselines3 Version: 2.7.0\n",
            "Matplotlib Version: 3.10.0\n"
          ]
        }
      ]
    },
    {
      "cell_type": "code",
      "source": [
        "rl_type = \"SAC\"\n",
        "env_str = \"BitCrazy\"\n",
        "log_dir = \"./logs/{}\".format(env_str)\n",
        "name_prefix = \"bit_crazy\""
      ],
      "metadata": {
        "id": "o5FbCArtLRgo"
      },
      "execution_count": 5,
      "outputs": []
    },
    {
      "cell_type": "code",
      "source": [
        "hyperparams = {\n",
        "    \"env_str\": env_str,\n",
        "    \"rl_type\": rl_type,\n",
        "    \"eval_freq\": 25_000,\n",
        "    \"n_envs\": 4,\n",
        "    \"total_timesteps\": 1_500_000,\n",
        "    \"log_dir\": log_dir,\n",
        "    \"episode_length\": 1_000,\n",
        "    \"sphere_size\": 0.25\n",
        "}"
      ],
      "metadata": {
        "id": "on1tSGfFLhQj"
      },
      "execution_count": 6,
      "outputs": []
    },
    {
      "cell_type": "code",
      "source": [
        "csv_header = [\"step\",\n",
        "              \"drone_pos_x\",\n",
        "              \"drone_pos_y\",\n",
        "              \"drone_pos_z\",\n",
        "              \"reward\",\n",
        "              \"reward_normalized\",\n",
        "              \"total_reward\",\n",
        "              \"touch_reported\",\n",
        "              \"sensor_reading\",\n",
        "              \"distance_to_target\",\n",
        "              \"done\"]"
      ],
      "metadata": {
        "id": "NuWDubq6LdYs"
      },
      "execution_count": 7,
      "outputs": []
    },
    {
      "cell_type": "code",
      "source": [
        "class VideoRecordCallback(BaseCallback):\n",
        "    def __init__(\n",
        "        self,\n",
        "        save_path: str,\n",
        "        video_length: int,\n",
        "        save_freq: int = 5_000,\n",
        "        name_prefix: str =\"rl_model\",\n",
        "        verbose: int = 0):\n",
        "\n",
        "        super().__init__(verbose)\n",
        "        self.save_freq = save_freq\n",
        "        self.video_length = video_length\n",
        "        self.save_path = save_path\n",
        "        self.name_prefix = name_prefix\n",
        "        # Those variables will be accessible in the callback\n",
        "        # (they are defined in the base class)\n",
        "        # The RL model\n",
        "        # self.model = None  # type: BaseAlgorithm\n",
        "        # An alias for self.model.get_env(), the environment used for training\n",
        "        # self.training_env # type: VecEnv\n",
        "        # Number of time the callback was called\n",
        "        # self.n_calls = 0  # type: int\n",
        "        # num_timesteps = n_envs * n times env.step() was called\n",
        "        # self.num_timesteps = 0  # type: int\n",
        "        # local and global variables\n",
        "        # self.locals = {}  # type: Dict[str, Any]\n",
        "        # self.globals = {}  # type: Dict[str, Any]\n",
        "        # The logger object, used to report things in the terminal\n",
        "        # self.logger # type: stable_baselines3.common.logger.Logger\n",
        "        # Sometimes, for event callback, it is useful\n",
        "        # to have access to the parent object\n",
        "        # self.parent = None  # type: Optional[BaseCallback]\n",
        "\n",
        "    def _on_step(self) -> bool:\n",
        "        if self.n_calls % self.save_freq == 0:\n",
        "\n",
        "          name_prefix = f\"{self.name_prefix}_{self.num_timesteps}\"\n",
        "\n",
        "          # Record video of the best model playing\n",
        "          rec_val = make_vec_env(make_env, n_envs=1)\n",
        "          rec_val = VecNormalize(rec_val,\n",
        "                                 training=False,\n",
        "                                 norm_obs=True,\n",
        "                                 norm_reward=True)\n",
        "          rec_val = VecVideoRecorder(rec_val,\n",
        "                                    self.save_path,\n",
        "                                    video_length=self.video_length,\n",
        "                                    record_video_trigger=lambda x: x == 0,\n",
        "                                    name_prefix=name_prefix)\n",
        "\n",
        "          obs = rec_val.reset()\n",
        "          session_length = 0\n",
        "          total_reward = 0.0\n",
        "          csv_file_name = os.path.join(self.save_path, f\"{name_prefix}.csv\")\n",
        "          with open(csv_file_name, 'w') as csvfile:\n",
        "            csv_writer = csv.writer(csvfile, delimiter=',')\n",
        "            csv_writer.writerow(csv_header)\n",
        "            for _ in range(self.video_length):\n",
        "              action, _states = self.model.predict(obs)\n",
        "              obs_norm, rewards_norm, done, info = rec_val.step(action)\n",
        "              obs = rec_val.get_original_obs()\n",
        "              rewards = rec_val.get_original_reward()\n",
        "              total_reward += rewards\n",
        "              row_data = numpy.concatenate([[int(session_length),\n",
        "                                             obs[0][0],\n",
        "                                             obs[0][1],\n",
        "                                             obs[0][2],\n",
        "                                             rewards[0],\n",
        "                                             rewards_norm[0],\n",
        "                                             total_reward[0],\n",
        "                                             info[0][\"touch_reported\"],\n",
        "                                             info[0][\"sensor_reading\"],\n",
        "                                             info[0][\"distance_to_target\"],\n",
        "                                             done[0]]])\n",
        "              row_data = numpy.round(row_data, decimals=4)\n",
        "              csv_writer.writerow(row_data)\n",
        "              rec_val.render()\n",
        "              session_length += 1\n",
        "              if done:\n",
        "                break\n",
        "\n",
        "          print(f\"Step: {self.num_timesteps} | Session Length: {session_length} | Total Reward: {int(total_reward[0])}\")\n",
        "\n",
        "          rec_val.close()\n",
        "        return True\n"
      ],
      "metadata": {
        "id": "BqTBA3xCLbCk"
      },
      "execution_count": 8,
      "outputs": []
    },
    {
      "cell_type": "code",
      "source": [
        "import xml.etree.ElementTree as ET\n",
        "\n",
        "# --- Configuration ---\n",
        "# The script will modify this file directly\n",
        "filename = cf2_mj_description.MJCF_PATH\n",
        "\n",
        "# 1. Parse the existing XML file\n",
        "try:\n",
        "    tree = ET.parse(filename)\n",
        "    root = tree.getroot()\n",
        "except FileNotFoundError:\n",
        "    print(f\"Error: The file '{filename}' was not found.\")\n",
        "    exit()\n",
        "except ET.ParseError:\n",
        "    print(f\"Error: The file '{filename}' is not a valid XML file.\")\n",
        "    exit()\n",
        "\n",
        "# 2. Find both the <worldbody> and <sensor> parent nodes\n",
        "worldbody_node = root.find('worldbody')\n",
        "sensor_node = root.find('sensor')\n",
        "\n",
        "# 3. Validate that both parent nodes were found\n",
        "if worldbody_node is not None and sensor_node is not None:\n",
        "    changes_made = False\n",
        "    print(\"Found <worldbody> and <sensor> nodes. Checking for elements...\")\n",
        "\n",
        "    # --- Action 1: Check for and add the fly_zone ---\n",
        "    # The XPath \"./body[@name='fly_zone']\" finds a body element with a specific name\n",
        "    if worldbody_node.find(\"./site[@name='fly_sensor']\") is None:\n",
        "        print(\" -> Body 'fly_zone' not found. Adding it...\")\n",
        "        site_attributes = {\n",
        "            'name': 'fly_sensor',\n",
        "            'pos': '0 0 1',\n",
        "            'size': str(hyperparams[\"sphere_size\"]),\n",
        "            'type': 'sphere',\n",
        "            'rgba': '0 1 0 .25'\n",
        "        }\n",
        "        # ET.SubElement(ET.Element('site', attrib=site_attributes))\n",
        "        ET.SubElement(worldbody_node, 'site', attrib=site_attributes)\n",
        "        changes_made = True\n",
        "    else:\n",
        "        print(\" -> Body 'fly_zone' already exists. Skipping.\")\n",
        "\n",
        "    # --- Action 2: Check for and add the touch_sensor ---\n",
        "    if sensor_node.find(\"./touch[@name='touch_sensor']\") is None:\n",
        "        print(\" -> Sensor 'touch_sensor' not found. Adding it...\")\n",
        "        touch_attributes = {'name': 'touch_sensor', 'site': 'fly_sensor'}\n",
        "        ET.SubElement(sensor_node, 'touch', attrib=touch_attributes)\n",
        "        changes_made = True\n",
        "    else:\n",
        "        print(\" -> Sensor 'touch_sensor' already exists. Skipping.\")\n",
        "\n",
        "    # 4. Write to the file ONLY if changes were made\n",
        "    if changes_made:\n",
        "        ET.indent(tree, space=\"  \", level=0)\n",
        "        tree.write(filename, encoding='utf-8', xml_declaration=True)\n",
        "        print(f\"\\n✅ Successfully applied updates to '{filename}'.\")\n",
        "    else:\n",
        "        print(f\"\\n✅ No updates needed. All elements already exist in '{filename}'.\")\n",
        "\n",
        "else:\n",
        "    # This block runs if one or both parent nodes are missing\n",
        "    print(\"❌ Error: Could not find both <worldbody> and <sensor> nodes. No changes were made.\")\n",
        "    if worldbody_node is None:\n",
        "        print(\" -> Missing <worldbody> node.\")\n",
        "    if sensor_node is None:\n",
        "        print(\" -> Missing <sensor> node.\")"
      ],
      "metadata": {
        "id": "aJ60GmH4-P0-",
        "outputId": "d4373ae2-e7c4-4024-f9ff-290ec2794cc3",
        "colab": {
          "base_uri": "https://localhost:8080/"
        }
      },
      "execution_count": 9,
      "outputs": [
        {
          "output_type": "stream",
          "name": "stdout",
          "text": [
            "Found <worldbody> and <sensor> nodes. Checking for elements...\n",
            " -> Body 'fly_zone' already exists. Skipping.\n",
            " -> Sensor 'touch_sensor' already exists. Skipping.\n",
            "\n",
            "✅ No updates needed. All elements already exist in '/root/.cache/robot_descriptions/mujoco_menagerie/bitcraze_crazyflie_2/cf2.xml'.\n"
          ]
        }
      ]
    },
    {
      "cell_type": "code",
      "source": [
        "def modified_tanh(x):\n",
        "    \"\"\"\n",
        "    Calculates the modified tanh function.\n",
        "    \"\"\"\n",
        "    k = 5.406\n",
        "    x0 = 0.575\n",
        "    return 0.5 * (1 - numpy.tanh(k * (x - x0)))\n",
        "\n",
        "def modified_tanh_final(x, factor=0.5):\n",
        "    \"\"\"\n",
        "    Calculates the final modified tanh function.\n",
        "    \"\"\"\n",
        "    k = 2.941\n",
        "    x0 = 1.1\n",
        "    return -numpy.tanh(k * (x - x0)) * factor"
      ],
      "metadata": {
        "id": "OsHxZveW6yVp"
      },
      "execution_count": 10,
      "outputs": []
    },
    {
      "cell_type": "code",
      "source": [
        "import gymnasium as gym\n",
        "import numpy as np\n",
        "import mujoco\n",
        "import xml.etree.ElementTree as ET\n",
        "from gymnasium.spaces import Box\n",
        "\n",
        "# Import the path to the CF2 model from the library\n",
        "from robot_descriptions.cf2_mj_description import MJCF_PATH as CF2_PATH\n",
        "\n",
        "class DroneHoverEnv(MujocoEnv):\n",
        "    \"\"\"\n",
        "    Custom Gymnasium environment for the drone hovering task.\n",
        "    This version loads the drone model from `robot_descriptions`\n",
        "    and programmatically builds the training scene.\n",
        "    \"\"\"\n",
        "\n",
        "    metadata = {\n",
        "    \"render_modes\": [\n",
        "        \"human\",\n",
        "        \"rgb_array\",\n",
        "        \"depth_array\",\n",
        "    ],\n",
        "        \"render_fps\": 100,\n",
        "    }\n",
        "\n",
        "    def __init__(self, sphere_size=0.2, episode_len=1_000, frame_skip=5, **kwargs):\n",
        "        utils.EzPickle.__init__(self, **kwargs)\n",
        "\n",
        "        self.model_path = os.path.join(cf2_mj_description.PACKAGE_PATH, \"scene.xml\")\n",
        "        self.total_reward = 0\n",
        "\n",
        "        # --- 3. Define Spaces and Target (same as before) ---\n",
        "        self.action_space = Box(\n",
        "            low=np.array([0.0, -1.0, -1.0, -1.0]),\n",
        "            high=np.array([0.35, 1.0, 1.0, 1.0]),\n",
        "            dtype=np.float64\n",
        "        )\n",
        "\n",
        "        self.observation_space = Box(\n",
        "            low=-np.inf, high=np.inf, shape=(19,), dtype=np.float64\n",
        "        )\n",
        "\n",
        "        # change shape of observation to your observation space size\n",
        "        # load your MJCF model with env and choose frames count between actions\n",
        "        MujocoEnv.__init__(\n",
        "            self,\n",
        "            self.model_path,\n",
        "            frame_skip=5,\n",
        "            observation_space=self.observation_space,\n",
        "            **kwargs\n",
        "        )\n",
        "\n",
        "        self.step_number = 0\n",
        "        self.sphere_size = sphere_size\n",
        "        self.episode_len = episode_len\n",
        "        self.frame_skip = frame_skip\n",
        "        self.target_pos = self.model.site_pos[self.model.site(\"fly_sensor\").id]\n",
        "        self.drone_body_id = self.model.body('cf2').id\n",
        "        self.gyro_sensor_id = self.model.sensor('body_gyro').id\n",
        "        self.fly_sensor_id = self.model.sensor('touch_sensor').id\n",
        "\n",
        "\n",
        "    def _get_obs(self):\n",
        "        \"\"\"Constructs the observation vector from the simulation data.\"\"\"\n",
        "        drone_pos = self.data.qpos[:3]\n",
        "        drone_quat = self.data.qpos[3:7]\n",
        "        drone_lin_vel = self.data.qvel[:3]\n",
        "        drone_ang_vel = self.data.sensor(self.gyro_sensor_id).data\n",
        "        vec_to_target = self.target_pos - drone_pos\n",
        "\n",
        "        return np.concatenate([\n",
        "            drone_pos,\n",
        "            drone_quat,\n",
        "            vec_to_target,\n",
        "            drone_lin_vel,\n",
        "            drone_ang_vel,\n",
        "            self.target_pos\n",
        "        ]).astype(np.float64)\n",
        "\n",
        "    def step(self, action):\n",
        "        \"\"\"Applies an action, steps the simulation, and calculates the reward.\"\"\"\n",
        "        self.data.ctrl[:] = action\n",
        "        for _ in range(self.frame_skip):\n",
        "            mujoco.mj_step(self.model, self.data)\n",
        "\n",
        "        self.step_number += 1\n",
        "        drone_pos = self.data.qpos[:3]\n",
        "        distance_to_target = np.linalg.norm(drone_pos - self.target_pos)\n",
        "        reward = modified_tanh_final(distance_to_target)\n",
        "\n",
        "        #reward = -distance_to_target\n",
        "        #reward -= 0.01 * np.square(action).sum()\n",
        "\n",
        "        # Check for contact with the 'touch_sensor' site\n",
        "\n",
        "        # Read the sensor value\n",
        "        touch_reported = False\n",
        "        # print(self.data.sensor(self.fly_sensor_id).data)\n",
        "        sensor_reading = self.data.sensor(self.fly_sensor_id).data[0]\n",
        "\n",
        "        # A positive value means the sensor is being touched\n",
        "        if (sensor_reading > 0 and not touch_reported):\n",
        "            # print(f\"Drone touched the sensor! | Senor Force {sensor_reading:.3f} | Distance: {distance_to_target:.3f}\")\n",
        "            touch_reported = True\n",
        "            reward += 1.0 # Add a positive reward for touching the sensor\n",
        "        elif distance_to_target <= self.sphere_size:\n",
        "            reward += 1.0 # Add a positive reward for touching the sensor\n",
        "\n",
        "        truncated = False\n",
        "        terminated = False\n",
        "        if bool(distance_to_target > 2.0 or drone_pos[2] < 0.025):\n",
        "            reward = -10.0\n",
        "            terminated = True\n",
        "        elif self.step_number > self.episode_len:\n",
        "            truncated = True\n",
        "\n",
        "        self.total_reward += reward\n",
        "\n",
        "        observation = self._get_obs()\n",
        "\n",
        "        info = {'distance_to_target': distance_to_target,\n",
        "                \"touch_reported\": touch_reported,\n",
        "                \"sensor_reading\": sensor_reading}\n",
        "\n",
        "        return observation, reward, terminated, truncated, info\n",
        "\n",
        "    def reset(self, seed=None, options=None):\n",
        "        \"\"\"Resets the environment to an initial state.\"\"\"\n",
        "        super().reset(seed=seed)\n",
        "        mujoco.mj_resetData(self.model, self.data)\n",
        "        noise = self.np_random.uniform(low=-0.1, high=0.1, size=3)\n",
        "        self.data.qpos[:3] += noise\n",
        "\n",
        "        # Make sure that the drone doesn't start too low\n",
        "        self.data.qpos[2] = max(0.075, self.data.qpos[2])\n",
        "        self.total_reward = 0\n",
        "        return self._get_obs(), {}\n",
        "\n",
        "    # define what should happen when the model is reset (at the beginning of each episode)\n",
        "    def reset_model(self, seed=None):\n",
        "        self.step_number = 0\n",
        "        self.total_reward = 0\n",
        "\n",
        "        # for example, noise is added to positions and velocities\n",
        "        qpos = self.init_qpos + self.np_random.uniform(\n",
        "            size=self.model.nq, low=-0.01, high=0.01\n",
        "        )\n",
        "\n",
        "        # Make sure that the drone doesn't start too low\n",
        "        qpos[2] =  max(0.075, qpos[2])\n",
        "\n",
        "        qvel = self.init_qvel + self.np_random.uniform(\n",
        "            size=self.model.nv, low=-0.01, high=0.01\n",
        "        )\n",
        "        self.set_state(qpos, qvel)\n",
        "        return self._get_obs()"
      ],
      "metadata": {
        "id": "KjA_zz98FkwH"
      },
      "execution_count": 11,
      "outputs": []
    },
    {
      "cell_type": "code",
      "source": [
        "env = DroneHoverEnv()\n",
        "print(\"Observation Space Size: \", env.observation_space.shape)\n",
        "print('Actions Space: ', env.action_space)\n",
        "env.close()"
      ],
      "metadata": {
        "id": "NHi9XWqQLl3c",
        "outputId": "d6144ec5-2856-4022-da9a-1a6beb045e72",
        "colab": {
          "base_uri": "https://localhost:8080/"
        }
      },
      "execution_count": 12,
      "outputs": [
        {
          "output_type": "stream",
          "name": "stdout",
          "text": [
            "Observation Space Size:  (19,)\n",
            "Actions Space:  Box([ 0. -1. -1. -1.], [0.35 1.   1.   1.  ], (4,), float32)\n"
          ]
        }
      ]
    },
    {
      "cell_type": "code",
      "source": [
        "def make_env():\n",
        "  env = DroneHoverEnv(sphere_size=hyperparams[\"sphere_size\"],\n",
        "                      episode_len=hyperparams[\"episode_length\"],\n",
        "                      render_mode=\"rgb_array\")\n",
        "  check_env(env)\n",
        "  return env"
      ],
      "metadata": {
        "id": "oYantNU3_7k6"
      },
      "execution_count": 13,
      "outputs": []
    },
    {
      "cell_type": "code",
      "source": [
        "# Create Training environment\n",
        "env = make_vec_env(make_env,\n",
        "                   n_envs=hyperparams[\"n_envs\"],\n",
        "                   monitor_dir=os.path.join(log_dir, \"monitor\"))\n",
        "\n",
        "normalized_env = VecNormalize(env,\n",
        "                              training=True,\n",
        "                              norm_obs=True,\n",
        "                              norm_reward=True)\n",
        "\n",
        "\n",
        "# Create Evaluation environment\n",
        "env_val = make_vec_env(make_env, n_envs=1)\n",
        "normalized_env_val = VecNormalize(env_val,\n",
        "                                  training=False,\n",
        "                                  norm_obs=True,\n",
        "                                  norm_reward=True)\n",
        "\n",
        "\n",
        "eval_callback = EvalCallback(normalized_env_val,\n",
        "                             best_model_save_path=log_dir,\n",
        "                             log_path=log_dir,\n",
        "                             render=False,\n",
        "                             deterministic=True,\n",
        "                             n_eval_episodes=20,\n",
        "                             eval_freq=hyperparams[\"eval_freq\"])\n",
        "\n",
        "video_record_callback = VideoRecordCallback(\n",
        "    save_path=os.path.join(log_dir, \"videos\"),\n",
        "    video_length=10_000,\n",
        "    save_freq=hyperparams[\"eval_freq\"],\n",
        "    name_prefix=name_prefix)\n",
        "\n",
        "# Create the callback list\n",
        "callbackList = CallbackList([eval_callback])\n",
        "# callbackList = CallbackList([video_record_callback, eval_callback])\n",
        "\n",
        "# learning with tensorboard logging and saving model\n",
        "model = SAC(\"MlpPolicy\",\n",
        "            normalized_env,\n",
        "            verbose=0,\n",
        "            tensorboard_log=os.path.join(log_dir, \"tensorboard\"))\n",
        "\n",
        "model.learn(total_timesteps=hyperparams[\"total_timesteps\"],\n",
        "            callback=callbackList,\n",
        "            progress_bar=True)\n",
        "\n",
        "# Save the model\n",
        "model.save(os.path.join(log_dir, \"final_model\"))\n",
        "\n",
        "mean_reward, std_reward = evaluate_policy(model,\n",
        "                                          normalized_env_val,\n",
        "                                          deterministic=True,\n",
        "                                          n_eval_episodes=20)\n",
        "print(f\"Final Mean reward: {mean_reward:.2f} +/- {std_reward:.2f}\")\n",
        "\n",
        "normalized_env.save(os.path.join(log_dir, \"normalized_env\"))\n",
        "normalized_env_val.save(os.path.join(log_dir, \"normalized_env_val\"))\n",
        "\n",
        "env.close()\n",
        "env_val.close()\n",
        "normalized_env.close()\n",
        "normalized_env_val.close()"
      ],
      "metadata": {
        "id": "frDeW5sE_5IR",
        "outputId": "a2d6b875-f3ba-46a6-e882-cedf34ec6839",
        "colab": {
          "base_uri": "https://localhost:8080/",
          "height": 50
        }
      },
      "execution_count": 14,
      "outputs": [
        {
          "output_type": "display_data",
          "data": {
            "text/plain": [
              "\u001b[35m 100%\u001b[0m \u001b[38;2;114;156;31m━━━━━━━━━━━━━━━━━━━━━━━━━━━━━━━━━━━━━━━━━━━━━━━━━━━━━━━━\u001b[0m \u001b[32m1,500,000/1,500,000 \u001b[0m [ \u001b[33m1:32:56\u001b[0m < \u001b[36m0:00:00\u001b[0m , \u001b[31m54 it/s\u001b[0m ]\n"
            ],
            "text/html": [
              "<pre style=\"white-space:pre;overflow-x:auto;line-height:normal;font-family:Menlo,'DejaVu Sans Mono',consolas,'Courier New',monospace\"><span style=\"color: #800080; text-decoration-color: #800080\"> 100%</span> <span style=\"color: #729c1f; text-decoration-color: #729c1f\">━━━━━━━━━━━━━━━━━━━━━━━━━━━━━━━━━━━━━━━━━━━━━━━━━━━━━━━━</span> <span style=\"color: #008000; text-decoration-color: #008000\">1,500,000/1,500,000 </span> [ <span style=\"color: #808000; text-decoration-color: #808000\">1:32:56</span> &lt; <span style=\"color: #008080; text-decoration-color: #008080\">0:00:00</span> , <span style=\"color: #800000; text-decoration-color: #800000\">54 it/s</span> ]\n",
              "</pre>\n"
            ]
          },
          "metadata": {}
        },
        {
          "output_type": "display_data",
          "data": {
            "text/plain": [],
            "text/html": [
              "<pre style=\"white-space:pre;overflow-x:auto;line-height:normal;font-family:Menlo,'DejaVu Sans Mono',consolas,'Courier New',monospace\"></pre>\n"
            ]
          },
          "metadata": {}
        },
        {
          "output_type": "stream",
          "name": "stdout",
          "text": [
            "Final Mean reward: 1370.21 +/- 41.73\n"
          ]
        }
      ]
    },
    {
      "cell_type": "code",
      "source": [
        "# Create Evaluation environment\n",
        "env_val = make_vec_env(make_env, n_envs=1)\n",
        "normalized_env_val = VecNormalize.load(os.path.join(log_dir,\n",
        "                                                    \"normalized_env_val\"),\n",
        "                                       venv=env_val)\n",
        "\n",
        "# Load the best model\n",
        "best_model_path = os.path.join(log_dir, \"best_model\")\n",
        "best_model = SAC.load(best_model_path, env=normalized_env_val)\n",
        "\n",
        "mean_reward, std_reward = evaluate_policy(best_model,\n",
        "                                          normalized_env_val,\n",
        "                                          deterministic=True,\n",
        "                                          n_eval_episodes=20)\n",
        "\n",
        "print(f\"Best Model - Mean reward: {mean_reward:.2f} +/- {std_reward:.2f}\")\n",
        "\n",
        "# Record video of the best model\n",
        "video_length = 10_000\n",
        "best_model_file_name = \"best_model_{}\".format(name_prefix)\n",
        "env = VecVideoRecorder(normalized_env_val, os.path.join(log_dir, \"videos\"),\n",
        "                       video_length=video_length,\n",
        "                       record_video_trigger=lambda x: x == 0,\n",
        "                       name_prefix=best_model_file_name)\n",
        "\n",
        "session_length = 0\n",
        "total_reward = 0\n",
        "obs_norm = env.reset()\n",
        "best_csv_file_name = os.path.join(log_dir, f\"{best_model_file_name}.csv\")\n",
        "with open(best_csv_file_name, 'w') as csvfile:\n",
        "  csv_writer = csv.writer(csvfile, delimiter=',')\n",
        "  csv_writer.writerow(csv_header)\n",
        "  for _ in range(video_length):\n",
        "      action, _states = best_model.predict(obs_norm, deterministic=True)\n",
        "      obs_norm, rewards_norm, done, info = env.step(action)\n",
        "      obs = env.get_original_obs()\n",
        "      rewards = env.get_original_reward()\n",
        "      total_reward += rewards\n",
        "      row_data = numpy.concatenate([[int(session_length),\n",
        "                                     obs[0][0],\n",
        "                                     obs[0][1],\n",
        "                                     obs[0][2],\n",
        "                                     rewards[0],\n",
        "                                     rewards_norm[0],\n",
        "                                     total_reward[0],\n",
        "                                     info[0][\"touch_reported\"],\n",
        "                                     info[0][\"sensor_reading\"],\n",
        "                                     info[0][\"distance_to_target\"],\n",
        "                                     done[0]]])\n",
        "      row_data = numpy.round(row_data, decimals=4)\n",
        "      csv_writer.writerow(row_data)\n",
        "      env.render()\n",
        "      session_length += 1\n",
        "      if done:\n",
        "          break\n",
        "\n",
        "env.close()\n",
        "normalized_env_val.close()\n",
        "print(f\"Total reward: {total_reward[0]}\")"
      ],
      "metadata": {
        "id": "iLHnDrzGRLXE",
        "outputId": "5bb68418-216d-4618-d011-6e33e0132da5",
        "colab": {
          "base_uri": "https://localhost:8080/"
        }
      },
      "execution_count": 20,
      "outputs": [
        {
          "output_type": "stream",
          "name": "stderr",
          "text": [
            "/usr/local/lib/python3.11/dist-packages/stable_baselines3/common/env_checker.py:462: UserWarning: We recommend you to use a symmetric and normalized Box action space (range=[-1, 1]) cf. https://stable-baselines3.readthedocs.io/en/master/guide/rl_tips.html\n",
            "  warnings.warn(\n"
          ]
        },
        {
          "output_type": "stream",
          "name": "stdout",
          "text": [
            "Best Model - Mean reward: 1424.44 +/- 3.65\n",
            "Moviepy - Building video /content/logs/BitCrazy/videos/best_model_bit_crazy-step-0-to-step-10000.mp4.\n",
            "Moviepy - Writing video /content/logs/BitCrazy/videos/best_model_bit_crazy-step-0-to-step-10000.mp4\n",
            "\n"
          ]
        },
        {
          "output_type": "stream",
          "name": "stderr",
          "text": [
            "                                                                "
          ]
        },
        {
          "output_type": "stream",
          "name": "stdout",
          "text": [
            "Moviepy - Done !\n",
            "Moviepy - video ready /content/logs/BitCrazy/videos/best_model_bit_crazy-step-0-to-step-10000.mp4\n",
            "Total reward: 1432.8101806640625\n"
          ]
        },
        {
          "output_type": "stream",
          "name": "stderr",
          "text": [
            "\r"
          ]
        }
      ]
    },
    {
      "cell_type": "code",
      "source": [
        "# Load the evaluations.npz file\n",
        "data = numpy.load(os.path.join(log_dir, \"evaluations.npz\"))\n",
        "\n",
        "# Extract the relevant data\n",
        "timesteps = data['timesteps']\n",
        "results = data['results']\n",
        "\n",
        "# Calculate the mean and standard deviation of the results\n",
        "mean_results = numpy.mean(results, axis=1)\n",
        "std_results = numpy.std(results, axis=1)\n",
        "\n",
        "# Plot the results\n",
        "matplotlib.pyplot.figure()\n",
        "matplotlib.pyplot.plot(timesteps, mean_results)\n",
        "matplotlib.pyplot.fill_between(timesteps,\n",
        "                               mean_results - std_results,\n",
        "                               mean_results + std_results,\n",
        "                               alpha=0.3)\n",
        "\n",
        "matplotlib.pyplot.xlabel('Timesteps')\n",
        "matplotlib.pyplot.ylabel('Mean Reward')\n",
        "matplotlib.pyplot.title(f\"{rl_type} Performance on {env_str}\")\n",
        "matplotlib.pyplot.show()"
      ],
      "metadata": {
        "id": "5PIpNkGF4zH3",
        "outputId": "0127a2b9-7dc6-43eb-903a-5f757cda55fc",
        "colab": {
          "base_uri": "https://localhost:8080/",
          "height": 472
        }
      },
      "execution_count": 21,
      "outputs": [
        {
          "output_type": "display_data",
          "data": {
            "text/plain": [
              "<Figure size 640x480 with 1 Axes>"
            ],
            "image/png": "[encoded data removed]"
          },
          "metadata": {}
        }
      ]
    },
    {
      "cell_type": "code",
      "source": [],
      "metadata": {
        "id": "BJUYt_p359U-"
      },
      "execution_count": null,
      "outputs": []
    }
  ],
  "metadata": {
    "colab": {
      "provenance": [],
      "machine_shape": "hm",
      "gpuType": "L4",
      "include_colab_link": true
    },
    "kernelspec": {
      "display_name": "Python 3",
      "name": "python3"
    },
    "accelerator": "GPU"
  },
  "nbformat": 4,
  "nbformat_minor": 0
}